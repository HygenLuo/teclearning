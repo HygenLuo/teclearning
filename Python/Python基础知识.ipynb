{
 "cells": [
  {
   "attachments": {
    "image-2.png": {
     "image/png": "[encoded data removed]"
    },
    "image.png": {
     "image/png": "[encoded data removed]"
    }
   },
   "cell_type": "markdown",
   "id": "8e4f0d28",
   "metadata": {},
   "source": [
    "# Jupyter Notebook简单使用\n",
    "## 1. 执行代码\n",
    "每一行的代码都可以通过`Shift`+`Enter`来执行。\n",
    "## 2. Tab补全\n",
    "当在命令行输入表达式时，按下`<Tab>`键即可为任意变量搜索命名空间，与目前你已输入的字符进行匹配：\n",
    "```python\n",
    "In [1]: user_age = 18\n",
    "\n",
    "In [2]: user_name = 'Hygen'\n",
    "\n",
    "In [3]: us<Tab>\n",
    "user_age user_name\n",
    "```\n",
    "![image.png](attachment:image.png)\n",
    "也可以在输入英文的句号`.`后按下`<Tab>`,对方法、属性的名称进行补全：\n",
    "```python\n",
    "In [3]: a = [1, 2, 3]\n",
    "\n",
    "In [4]: a.<Tab>\n",
    "```\n",
    "![image-2.png](attachment:image-2.png)\n",
    "同样的还有模块与路径，此处不详细展示。、\n",
    "## 3. 内省\n",
    "在变量名的前后使用问号`?`可以显示关于该对象的一些概要信息："
   ]
  },
  {
   "cell_type": "code",
   "execution_count": 1,
   "id": "3ee2bd8d",
   "metadata": {},
   "outputs": [],
   "source": [
    "a = [1, 2, 3]"
   ]
  },
  {
   "cell_type": "code",
   "execution_count": 2,
   "id": "91289269",
   "metadata": {},
   "outputs": [],
   "source": [
    "a?"
   ]
  },
  {
   "cell_type": "markdown",
   "id": "744ac0ca",
   "metadata": {},
   "source": [
    "若对象是一个函数或实例方法且文档字符串已经写好，则文档字符串会显示出来："
   ]
  },
  {
   "cell_type": "code",
   "execution_count": 3,
   "id": "0208f4fa",
   "metadata": {},
   "outputs": [],
   "source": [
    "def add_numbers(a, b):\n",
    "    \"\"\"\n",
    "    将两个数字加起来并返回它们的和\n",
    "    \"\"\"\n",
    "    return a + b"
   ]
  },
  {
   "cell_type": "code",
   "execution_count": 4,
   "id": "f4c4f6f6",
   "metadata": {},
   "outputs": [],
   "source": [
    "add_numbers?"
   ]
  },
  {
   "cell_type": "markdown",
   "id": "172624d6",
   "metadata": {},
   "source": [
    "使用双问号`??`可以显示函数的源代码："
   ]
  },
  {
   "cell_type": "code",
   "execution_count": 5,
   "id": "411bc98e",
   "metadata": {},
   "outputs": [],
   "source": [
    "add_numbers??"
   ]
  },
  {
   "cell_type": "markdown",
   "id": "ffaf7e33",
   "metadata": {},
   "source": [
    "`?`还可以搜索函数命名空间，把字符和星号`*`结合在一起，会显示所有匹配通配符表达式的命名："
   ]
  },
  {
   "cell_type": "code",
   "execution_count": 6,
   "id": "42190dc8",
   "metadata": {},
   "outputs": [],
   "source": [
    "import numpy as np\n",
    "np.*load*?"
   ]
  },
  {
   "cell_type": "markdown",
   "id": "d904e455",
   "metadata": {},
   "source": [
    "# Python语言基础\n"
   ]
  },
  {
   "cell_type": "markdown",
   "id": "37af35c4",
   "metadata": {},
   "source": [
    "## 1. 列表\n",
    "### 1.1. 列表是什么\n",
    "列表由一系列按特定顺序排列的元素组成。\n",
    "可以将任何东西加入列表中，元素之间可以没有任何关系。\n",
    "用方括号`[]`来表示列表，用逗号`,`分割其中的元素。"
   ]
  },
  {
   "cell_type": "code",
   "execution_count": 7,
   "id": "a3324f02",
   "metadata": {},
   "outputs": [
    {
     "name": "stdout",
     "output_type": "stream",
     "text": [
      "['books', 'computer', 'clothes', 'papers']\n"
     ]
    }
   ],
   "source": [
    "room = ['books','computer','clothes','papers']\n",
    "print(room) # 输出列表"
   ]
  },
  {
   "cell_type": "markdown",
   "id": "ad40d6ca",
   "metadata": {},
   "source": [
    "### 1.2. 访问列表元素\n",
    "列表的索引从`0`开始"
   ]
  },
  {
   "cell_type": "code",
   "execution_count": 8,
   "id": "1edee6f1",
   "metadata": {},
   "outputs": [
    {
     "data": {
      "text/plain": [
       "'books'"
      ]
     },
     "execution_count": 8,
     "metadata": {},
     "output_type": "execute_result"
    }
   ],
   "source": [
    "room[0] # 访问第一个元素"
   ]
  },
  {
   "cell_type": "code",
   "execution_count": 9,
   "id": "17805741",
   "metadata": {},
   "outputs": [
    {
     "data": {
      "text/plain": [
       "'papers'"
      ]
     },
     "execution_count": 9,
     "metadata": {},
     "output_type": "execute_result"
    }
   ],
   "source": [
    "room[-1] # 访问倒数第一个元素"
   ]
  },
  {
   "cell_type": "code",
   "execution_count": 10,
   "id": "2d52a765",
   "metadata": {},
   "outputs": [
    {
     "data": {
      "text/plain": [
       "'clothes'"
      ]
     },
     "execution_count": 10,
     "metadata": {},
     "output_type": "execute_result"
    }
   ],
   "source": [
    "room[-2] # 返回倒数第二个元素"
   ]
  },
  {
   "cell_type": "code",
   "execution_count": 11,
   "id": "91608b39",
   "metadata": {},
   "outputs": [],
   "source": [
    "msg = \"I have a \" + room[1] + \" in the room\" # 使用列表中的值"
   ]
  },
  {
   "cell_type": "code",
   "execution_count": 12,
   "id": "57c0f207",
   "metadata": {},
   "outputs": [
    {
     "data": {
      "text/plain": [
       "'I have a computer in the room'"
      ]
     },
     "execution_count": 12,
     "metadata": {},
     "output_type": "execute_result"
    }
   ],
   "source": [
    "msg"
   ]
  },
  {
   "cell_type": "markdown",
   "id": "f309cccf",
   "metadata": {},
   "source": [
    "### 1.3. 列表的增删改操作"
   ]
  },
  {
   "cell_type": "code",
   "execution_count": 13,
   "id": "c1874a9c",
   "metadata": {},
   "outputs": [
    {
     "data": {
      "text/plain": [
       "['books', 'computer', 'clothes', 'papers']"
      ]
     },
     "execution_count": 13,
     "metadata": {},
     "output_type": "execute_result"
    }
   ],
   "source": [
    "room"
   ]
  },
  {
   "cell_type": "code",
   "execution_count": 14,
   "id": "1e36125c",
   "metadata": {},
   "outputs": [
    {
     "data": {
      "text/plain": [
       "['pens', 'computer', 'clothes', 'papers']"
      ]
     },
     "execution_count": 14,
     "metadata": {},
     "output_type": "execute_result"
    }
   ],
   "source": [
    "room[0] = 'pens' # 修改元素\n",
    "room"
   ]
  },
  {
   "cell_type": "code",
   "execution_count": 15,
   "id": "bb6e3daa",
   "metadata": {},
   "outputs": [
    {
     "data": {
      "text/plain": [
       "['cup', 'pens', 'computer', 'clothes', 'papers', 'drink']"
      ]
     },
     "execution_count": 15,
     "metadata": {},
     "output_type": "execute_result"
    }
   ],
   "source": [
    "room.append('drink') # 在列表末尾添加元素\n",
    "room.insert(0,'cup') # 在列表第0个位置插入元素\n",
    "room"
   ]
  },
  {
   "cell_type": "code",
   "execution_count": 16,
   "id": "64c1b6c7",
   "metadata": {},
   "outputs": [
    {
     "data": {
      "text/plain": [
       "['pens', 'computer', 'clothes', 'papers', 'drink']"
      ]
     },
     "execution_count": 16,
     "metadata": {},
     "output_type": "execute_result"
    }
   ],
   "source": [
    "del room[0] # 删除第0个元素\n",
    "room"
   ]
  },
  {
   "cell_type": "code",
   "execution_count": 17,
   "id": "19d1735d",
   "metadata": {},
   "outputs": [
    {
     "data": {
      "text/plain": [
       "['pens', 'computer', 'clothes', 'papers']"
      ]
     },
     "execution_count": 17,
     "metadata": {},
     "output_type": "execute_result"
    }
   ],
   "source": [
    "popped = room.pop() # 删除最后一个元素，并将它存储到popped中\n",
    "room"
   ]
  },
  {
   "cell_type": "code",
   "execution_count": 18,
   "id": "0bf10676",
   "metadata": {},
   "outputs": [
    {
     "data": {
      "text/plain": [
       "'drink'"
      ]
     },
     "execution_count": 18,
     "metadata": {},
     "output_type": "execute_result"
    }
   ],
   "source": [
    "popped"
   ]
  },
  {
   "cell_type": "code",
   "execution_count": 19,
   "id": "82330888",
   "metadata": {},
   "outputs": [
    {
     "data": {
      "text/plain": [
       "['computer', 'clothes', 'papers']"
      ]
     },
     "execution_count": 19,
     "metadata": {},
     "output_type": "execute_result"
    }
   ],
   "source": [
    "popped_zero = room.pop(0) # 删除指定位置的元素\n",
    "room"
   ]
  },
  {
   "cell_type": "code",
   "execution_count": 20,
   "id": "5a7cae13",
   "metadata": {},
   "outputs": [
    {
     "data": {
      "text/plain": [
       "'pens'"
      ]
     },
     "execution_count": 20,
     "metadata": {},
     "output_type": "execute_result"
    }
   ],
   "source": [
    "popped_zero"
   ]
  },
  {
   "cell_type": "code",
   "execution_count": 21,
   "id": "030422c9",
   "metadata": {},
   "outputs": [
    {
     "data": {
      "text/plain": [
       "['clothes', 'papers']"
      ]
     },
     "execution_count": 21,
     "metadata": {},
     "output_type": "execute_result"
    }
   ],
   "source": [
    "room.remove('computer') # 根据值删除元素\n",
    "room"
   ]
  },
  {
   "cell_type": "markdown",
   "id": "16a35af4",
   "metadata": {},
   "source": [
    "### 1.4. 操作列表"
   ]
  },
  {
   "cell_type": "code",
   "execution_count": 22,
   "id": "5430ab73",
   "metadata": {},
   "outputs": [
    {
     "name": "stdout",
     "output_type": "stream",
     "text": [
      "books\n",
      "computer\n",
      "clothes\n",
      "papers\n"
     ]
    }
   ],
   "source": [
    "# 遍历整个列表\n",
    "room = ['books','computer','clothes','papers']\n",
    "for item in room:\n",
    "    print(item)"
   ]
  },
  {
   "cell_type": "markdown",
   "id": "31c0004e",
   "metadata": {},
   "source": [
    "## 2. 创建数字列表\n",
    "### 2.1. 使用range()函数\n",
    "`range(a,b)`可以生成`a`到`b - 1`的连续整型数字"
   ]
  },
  {
   "cell_type": "code",
   "execution_count": 23,
   "id": "ab5b0d2b",
   "metadata": {},
   "outputs": [
    {
     "name": "stdout",
     "output_type": "stream",
     "text": [
      "1\n",
      "2\n",
      "3\n",
      "4\n"
     ]
    }
   ],
   "source": [
    "for value in range(1,5):\n",
    "    print(value)"
   ]
  },
  {
   "cell_type": "markdown",
   "id": "9761ae0c",
   "metadata": {},
   "source": [
    "### 2.2. 使用range()创建数字列表\n",
    "使用函数`list()`可以将`range()`的结果直接转换为列表"
   ]
  },
  {
   "cell_type": "code",
   "execution_count": 24,
   "id": "35b17a65",
   "metadata": {},
   "outputs": [
    {
     "data": {
      "text/plain": [
       "[0, 1, 2, 3, 4, 5, 6, 7, 8, 9]"
      ]
     },
     "execution_count": 24,
     "metadata": {},
     "output_type": "execute_result"
    }
   ],
   "source": [
    "new_list = list(range(0,10))\n",
    "new_list"
   ]
  },
  {
   "cell_type": "markdown",
   "id": "32f2c695",
   "metadata": {},
   "source": [
    "同时`range()`还可以指定生成数的步长"
   ]
  },
  {
   "cell_type": "code",
   "execution_count": 25,
   "id": "fe423729",
   "metadata": {},
   "outputs": [
    {
     "data": {
      "text/plain": [
       "[0, 2, 4, 6, 8]"
      ]
     },
     "execution_count": 25,
     "metadata": {},
     "output_type": "execute_result"
    }
   ],
   "source": [
    "sec_list = list(range(0,10,2)) # 步长step = 2\n",
    "sec_list"
   ]
  },
  {
   "cell_type": "markdown",
   "id": "c6a35f3b",
   "metadata": {},
   "source": [
    "# Numpy ndarray:多维数组对象"
   ]
  },
  {
   "cell_type": "code",
   "execution_count": 26,
   "id": "25876f47",
   "metadata": {},
   "outputs": [],
   "source": [
    "import numpy as np # 导入numpy"
   ]
  },
  {
   "cell_type": "code",
   "execution_count": 27,
   "id": "d28f3f89",
   "metadata": {},
   "outputs": [],
   "source": [
    "data = np.random.randn(2, 3) # 生成一个随机小的2×3矩阵"
   ]
  },
  {
   "cell_type": "code",
   "execution_count": 28,
   "id": "67021921",
   "metadata": {},
   "outputs": [
    {
     "data": {
      "text/plain": [
       "array([[ 0.25863899, -1.78566454, -0.13019799],\n",
       "       [ 0.58333488, -1.87554332,  1.3122453 ]])"
      ]
     },
     "execution_count": 28,
     "metadata": {},
     "output_type": "execute_result"
    }
   ],
   "source": [
    "data"
   ]
  },
  {
   "cell_type": "code",
   "execution_count": 29,
   "id": "e657e48f",
   "metadata": {},
   "outputs": [
    {
     "data": {
      "text/plain": [
       "(2, 3)"
      ]
     },
     "execution_count": 29,
     "metadata": {},
     "output_type": "execute_result"
    }
   ],
   "source": [
    "data.shape # 查看矩阵的形状"
   ]
  },
  {
   "cell_type": "code",
   "execution_count": 30,
   "id": "4cd7a002",
   "metadata": {},
   "outputs": [
    {
     "data": {
      "text/plain": [
       "dtype('float64')"
      ]
     },
     "execution_count": 30,
     "metadata": {},
     "output_type": "execute_result"
    }
   ],
   "source": [
    "data.dtype # 查看矩阵的数据类型"
   ]
  },
  {
   "cell_type": "markdown",
   "id": "66161911",
   "metadata": {},
   "source": [
    "## 1.1. 生成ndarray"
   ]
  },
  {
   "cell_type": "code",
   "execution_count": 31,
   "id": "635d3596",
   "metadata": {},
   "outputs": [],
   "source": [
    "data1 = [1, 2, 3.3, 4.44] # 初始化一个列表"
   ]
  },
  {
   "cell_type": "code",
   "execution_count": 32,
   "id": "c353f6e0",
   "metadata": {},
   "outputs": [],
   "source": [
    "arr1 = np.array(data1) # 将arr1初始化为data1"
   ]
  },
  {
   "cell_type": "code",
   "execution_count": 33,
   "id": "cac51181",
   "metadata": {},
   "outputs": [
    {
     "data": {
      "text/plain": [
       "array([1.  , 2.  , 3.3 , 4.44])"
      ]
     },
     "execution_count": 33,
     "metadata": {},
     "output_type": "execute_result"
    }
   ],
   "source": [
    "arr1"
   ]
  },
  {
   "cell_type": "markdown",
   "id": "7dfb08c5",
   "metadata": {},
   "source": [
    "同等长度的列表将会自动转换为多维数组"
   ]
  },
  {
   "cell_type": "code",
   "execution_count": 34,
   "id": "cdac4a05",
   "metadata": {},
   "outputs": [],
   "source": [
    "data2 = [[1, 2, 3, 4],[5, 6, 7, 8]]"
   ]
  },
  {
   "cell_type": "code",
   "execution_count": 35,
   "id": "b5ae2c5b",
   "metadata": {},
   "outputs": [],
   "source": [
    "arr2 = np.array(data2)"
   ]
  },
  {
   "cell_type": "code",
   "execution_count": 36,
   "id": "4bf0fba4",
   "metadata": {},
   "outputs": [
    {
     "data": {
      "text/plain": [
       "array([[1, 2, 3, 4],\n",
       "       [5, 6, 7, 8]])"
      ]
     },
     "execution_count": 36,
     "metadata": {},
     "output_type": "execute_result"
    }
   ],
   "source": [
    "arr2"
   ]
  },
  {
   "cell_type": "code",
   "execution_count": 37,
   "id": "8ccb52ce",
   "metadata": {},
   "outputs": [
    {
     "data": {
      "text/plain": [
       "2"
      ]
     },
     "execution_count": 37,
     "metadata": {},
     "output_type": "execute_result"
    }
   ],
   "source": [
    "arr2.ndim # 查看矩阵的维数"
   ]
  },
  {
   "cell_type": "markdown",
   "id": "5dd0ebbe",
   "metadata": {},
   "source": [
    "用`np.zeros()`创建全零数组，`np.ones()`创建全一数组，`np.empty()`创建空数组(并不安全，有时候不是空数组而是垃圾堆)"
   ]
  },
  {
   "cell_type": "code",
   "execution_count": 38,
   "id": "0d799642",
   "metadata": {},
   "outputs": [
    {
     "data": {
      "text/plain": [
       "array([0., 0., 0., 0., 0., 0., 0., 0., 0., 0.])"
      ]
     },
     "execution_count": 38,
     "metadata": {},
     "output_type": "execute_result"
    }
   ],
   "source": [
    "np.zeros(10)"
   ]
  },
  {
   "cell_type": "code",
   "execution_count": 40,
   "id": "5a1f0087",
   "metadata": {},
   "outputs": [
    {
     "data": {
      "text/plain": [
       "array([[1., 1., 1.],\n",
       "       [1., 1., 1.]])"
      ]
     },
     "execution_count": 40,
     "metadata": {},
     "output_type": "execute_result"
    }
   ],
   "source": [
    "np.ones((2,3))"
   ]
  },
  {
   "cell_type": "code",
   "execution_count": 44,
   "id": "d473107c",
   "metadata": {},
   "outputs": [
    {
     "data": {
      "text/plain": [
       "array([[[0., 0.],\n",
       "        [0., 0.]],\n",
       "\n",
       "       [[0., 0.],\n",
       "        [0., 0.]]])"
      ]
     },
     "execution_count": 44,
     "metadata": {},
     "output_type": "execute_result"
    }
   ],
   "source": [
    "np.empty((2,2,2)) # 并不安全，建议慎用，有时候返回的是垃圾值"
   ]
  },
  {
   "cell_type": "code",
   "execution_count": null,
   "id": "d58eb5ae",
   "metadata": {},
   "outputs": [],
   "source": []
  }
 ],
 "metadata": {
  "kernelspec": {
   "display_name": "Python 3 (ipykernel)",
   "language": "python",
   "name": "python3"
  },
  "language_info": {
   "codemirror_mode": {
    "name": "ipython",
    "version": 3
   },
   "file_extension": ".py",
   "mimetype": "text/x-python",
   "name": "python",
   "nbconvert_exporter": "python",
   "pygments_lexer": "ipython3",
   "version": "3.11.5"
  }
 },
 "nbformat": 4,
 "nbformat_minor": 5
}
